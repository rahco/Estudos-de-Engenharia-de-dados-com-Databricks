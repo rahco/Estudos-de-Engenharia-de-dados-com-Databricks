{
 "cells": [
  {
   "cell_type": "code",
   "execution_count": null,
   "metadata": {
    "application/vnd.databricks.v1+cell": {
     "cellMetadata": {},
     "inputWidgets": {},
     "nuid": "92777437-541d-49ad-8133-a335114d3d35",
     "showTitle": false,
     "title": ""
    }
   },
   "outputs": [],
   "source": [
    "dbutils.widgets.text(\"data_execucao\", \"\")\n",
    "data_execucao = dbutils.widgets.get(\"data_execucao\")"
   ]
  },
  {
   "cell_type": "code",
   "execution_count": null,
   "metadata": {
    "application/vnd.databricks.v1+cell": {
     "cellMetadata": {
      "byteLimit": 2048000,
      "rowLimit": 10000
     },
     "inputWidgets": {},
     "nuid": "37326206-03f8-446d-b21e-669706d372bf",
     "showTitle": false,
     "title": ""
    }
   },
   "outputs": [],
   "source": [
    "import requests\n",
    "from pyspark.sql.functions import lit"
   ]
  },
  {
   "cell_type": "code",
   "execution_count": null,
   "metadata": {
    "application/vnd.databricks.v1+cell": {
     "cellMetadata": {
      "byteLimit": 2048000,
      "rowLimit": 10000
     },
     "inputWidgets": {},
     "nuid": "2fbc7420-1688-4925-8151-a7ea4aabb1c2",
     "showTitle": false,
     "title": ""
    }
   },
   "outputs": [],
   "source": [
    "def extraindo_dados(date, base=\"BRL\"):\n",
    "\n",
    "    url = f\"https://api.apilayer.com/exchangerates_data/{date}&base={base}\"\n",
    "\n",
    "    headers= {\n",
    "    \"apikey\": \"#sua_chave_aqui#\"\n",
    "    }\n",
    "\n",
    "    parametros = {\"base\": base}\n",
    "\n",
    "    response = requests.request(\"GET\", url, headers=headers, params=parametros)\n",
    "\n",
    "    if response.status_code != 200:\n",
    "        raise Exception(\"Não consegui extrair dados!!!\")\n",
    "\n",
    "    return response.json()"
   ]
  },
  {
   "cell_type": "code",
   "execution_count": null,
   "metadata": {
    "application/vnd.databricks.v1+cell": {
     "cellMetadata": {
      "byteLimit": 2048000,
      "rowLimit": 10000
     },
     "inputWidgets": {},
     "nuid": "fcd6f36c-befe-4a23-938b-2aadc57ad592",
     "showTitle": false,
     "title": ""
    }
   },
   "outputs": [],
   "source": [
    "def dados_para_dataframe(dado_json):\n",
    "    dados_tupla = [(moeda, float(taxa)) for moeda, taxa in dado_json[\"rates\"].items()]\n",
    "    return dados_tupla  "
   ]
  },
  {
   "cell_type": "code",
   "execution_count": null,
   "metadata": {
    "application/vnd.databricks.v1+cell": {
     "cellMetadata": {
      "byteLimit": 2048000,
      "rowLimit": 10000
     },
     "inputWidgets": {},
     "nuid": "c1e99df0-31ce-4f8f-a820-086d64a08d97",
     "showTitle": false,
     "title": ""
    }
   },
   "outputs": [],
   "source": [
    "def salvar_arquivo_parquet(conversoes_extraidas):\n",
    "    ano, mes, dia = conversoes_extraidas['date'].split('-')\n",
    "    caminho_completo = f\"dbfs:/databricks-results/bronze/{ano}/{mes}/{dia}\"\n",
    "    response = dados_para_dataframe(conversoes_extraidas)\n",
    "    df_conversoes = spark.createDataFrame(response, schema=['moeda', 'taxa'])\n",
    "    df_conversoes = df_conversoes.withColumn(\"data\", lit(f\"{ano}-{mes}-{dia}\"))\n",
    "    \n",
    "    df_conversoes.write.format(\"parquet\")\\\n",
    "                    .mode(\"overwrite\")\\\n",
    "                    .save(caminho_completo)\n",
    "\n",
    "    print(f\"Os arquivos foram salvos em {caminho_completo}\")"
   ]
  },
  {
   "cell_type": "code",
   "execution_count": null,
   "metadata": {
    "application/vnd.databricks.v1+cell": {
     "cellMetadata": {
      "byteLimit": 2048000,
      "rowLimit": 10000
     },
     "inputWidgets": {},
     "nuid": "7d801a3c-0e49-4331-8e8c-5fc898d307e6",
     "showTitle": false,
     "title": ""
    }
   },
   "outputs": [
    {
     "name": "stdout",
     "output_type": "stream",
     "text": [
      "Os arquivos foram salvos em dbfs:/databricks-results/bronze/2023/01/01\n"
     ]
    }
   ],
   "source": [
    "cotacoes = extraindo_dados(data_execucao) \n",
    "salvar_arquivo_parquet(cotacoes)"
   ]
  }
 ],
 "metadata": {
  "application/vnd.databricks.v1+notebook": {
   "dashboards": [],
   "language": "python",
   "notebookMetadata": {
    "mostRecentlyExecutedCommandWithImplicitDF": {
     "commandId": -1,
     "dataframes": [
      "_sqldf"
     ]
    },
    "pythonIndentUnit": 4
   },
   "notebookName": "1-extraindo-dados",
   "widgets": {}
  },
  "language_info": {
   "name": "python"
  }
 },
 "nbformat": 4,
 "nbformat_minor": 0
}
