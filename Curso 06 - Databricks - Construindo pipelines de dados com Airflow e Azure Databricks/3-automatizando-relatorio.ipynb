{
 "cells": [
  {
   "cell_type": "code",
   "execution_count": null,
   "metadata": {
    "application/vnd.databricks.v1+cell": {
     "cellMetadata": {
      "byteLimit": 2048000,
      "rowLimit": 10000
     },
     "inputWidgets": {},
     "nuid": "54c017c8-184c-4c98-9164-27d7b8f836a5",
     "showTitle": false,
     "title": ""
    }
   },
   "outputs": [],
   "source": [
    "from slack_sdk import WebClient\n",
    "import pyspark.pandas as ps"
   ]
  },
  {
   "cell_type": "code",
   "execution_count": null,
   "metadata": {
    "application/vnd.databricks.v1+cell": {
     "cellMetadata": {
      "byteLimit": 2048000,
      "rowLimit": 10000
     },
     "inputWidgets": {},
     "nuid": "2d417192-4e62-41d1-9329-2a7c5df50480",
     "showTitle": false,
     "title": ""
    }
   },
   "outputs": [],
   "source": [
    "slack_token = \"seu_token_slack_bot\"\n",
    "client = WebClient(token=slack_token)"
   ]
  },
  {
   "cell_type": "code",
   "execution_count": null,
   "metadata": {
    "application/vnd.databricks.v1+cell": {
     "cellMetadata": {
      "byteLimit": 2048000,
      "rowLimit": 10000
     },
     "inputWidgets": {},
     "nuid": "9c24f8cc-4c6b-4b25-9dc4-c8b96a16cdaf",
     "showTitle": false,
     "title": ""
    }
   },
   "outputs": [],
   "source": [
    "nome_arquivo = dbutils.fs.ls(\"dbfs:/databricks-results/prata/valores_reais/\")[-1].name"
   ]
  },
  {
   "cell_type": "code",
   "execution_count": null,
   "metadata": {
    "application/vnd.databricks.v1+cell": {
     "cellMetadata": {
      "byteLimit": 2048000,
      "rowLimit": 10000
     },
     "inputWidgets": {},
     "nuid": "6b201e29-c685-416c-885a-ed4fc2a25a9e",
     "showTitle": false,
     "title": ""
    }
   },
   "outputs": [],
   "source": [
    "path = \"../../dbfs/databricks-results/prata/valores_reais/\" + nome_arquivo"
   ]
  },
  {
   "cell_type": "code",
   "execution_count": null,
   "metadata": {
    "application/vnd.databricks.v1+cell": {
     "cellMetadata": {
      "byteLimit": 2048000,
      "rowLimit": 10000
     },
     "inputWidgets": {},
     "nuid": "3fde7f4d-0edd-4f4e-b2e7-c2cc2474256f",
     "showTitle": false,
     "title": ""
    }
   },
   "outputs": [],
   "source": [
    "enviando_arquivo_csv = client.files_upload_v2(\n",
    "    channel=\"#id_seu_canal_slack\",  \n",
    "    title=\"Arquivo no formato CSV do valor do real convertido\",\n",
    "    file=path,\n",
    "    filename=\"valores_reais.csv\",\n",
    "    initial_comment=\"Segue anexo o arquivo CSV:\",\n",
    ")"
   ]
  },
  {
   "cell_type": "code",
   "execution_count": null,
   "metadata": {
    "application/vnd.databricks.v1+cell": {
     "cellMetadata": {
      "byteLimit": 2048000,
      "rowLimit": 10000
     },
     "inputWidgets": {},
     "nuid": "79df2050-08eb-4f3a-ad14-07a9705cfbbd",
     "showTitle": false,
     "title": ""
    }
   },
   "outputs": [
    {
     "data": {
      "text/html": [
       "<div>\n",
       "<style scoped>\n",
       "    .dataframe tbody tr th:only-of-type {\n",
       "        vertical-align: middle;\n",
       "    }\n",
       "\n",
       "    .dataframe tbody tr th {\n",
       "        vertical-align: top;\n",
       "    }\n",
       "\n",
       "    .dataframe thead th {\n",
       "        text-align: right;\n",
       "    }\n",
       "</style>\n",
       "<table border=\"1\" class=\"dataframe\">\n",
       "  <thead>\n",
       "    <tr style=\"text-align: right;\">\n",
       "      <th></th>\n",
       "      <th>data</th>\n",
       "      <th>EUR</th>\n",
       "      <th>GBP</th>\n",
       "      <th>USD</th>\n",
       "    </tr>\n",
       "  </thead>\n",
       "  <tbody>\n",
       "    <tr>\n",
       "      <th>0</th>\n",
       "      <td>2023-04-01</td>\n",
       "      <td>5.5042</td>\n",
       "      <td>6.2507</td>\n",
       "      <td>5.0633</td>\n",
       "    </tr>\n",
       "    <tr>\n",
       "      <th>1</th>\n",
       "      <td>2023-04-02</td>\n",
       "      <td>5.4718</td>\n",
       "      <td>6.2230</td>\n",
       "      <td>5.0638</td>\n",
       "    </tr>\n",
       "    <tr>\n",
       "      <th>2</th>\n",
       "      <td>2023-04-03</td>\n",
       "      <td>5.5257</td>\n",
       "      <td>6.2915</td>\n",
       "      <td>5.0646</td>\n",
       "    </tr>\n",
       "    <tr>\n",
       "      <th>3</th>\n",
       "      <td>2023-04-04</td>\n",
       "      <td>5.5583</td>\n",
       "      <td>6.3391</td>\n",
       "      <td>5.0722</td>\n",
       "    </tr>\n",
       "    <tr>\n",
       "      <th>4</th>\n",
       "      <td>2023-04-05</td>\n",
       "      <td>5.4899</td>\n",
       "      <td>6.2745</td>\n",
       "      <td>5.0347</td>\n",
       "    </tr>\n",
       "  </tbody>\n",
       "</table>\n",
       "</div>"
      ]
     },
     "metadata": {
      "application/vnd.databricks.v1+output": {
       "addedWidgets": {},
       "arguments": {},
       "data": "<div>\n<style scoped>\n    .dataframe tbody tr th:only-of-type {\n        vertical-align: middle;\n    }\n\n    .dataframe tbody tr th {\n        vertical-align: top;\n    }\n\n    .dataframe thead th {\n        text-align: right;\n    }\n</style>\n<table border=\"1\" class=\"dataframe\">\n  <thead>\n    <tr style=\"text-align: right;\">\n      <th></th>\n      <th>data</th>\n      <th>EUR</th>\n      <th>GBP</th>\n      <th>USD</th>\n    </tr>\n  </thead>\n  <tbody>\n    <tr>\n      <th>0</th>\n      <td>2023-04-01</td>\n      <td>5.5042</td>\n      <td>6.2507</td>\n      <td>5.0633</td>\n    </tr>\n    <tr>\n      <th>1</th>\n      <td>2023-04-02</td>\n      <td>5.4718</td>\n      <td>6.2230</td>\n      <td>5.0638</td>\n    </tr>\n    <tr>\n      <th>2</th>\n      <td>2023-04-03</td>\n      <td>5.5257</td>\n      <td>6.2915</td>\n      <td>5.0646</td>\n    </tr>\n    <tr>\n      <th>3</th>\n      <td>2023-04-04</td>\n      <td>5.5583</td>\n      <td>6.3391</td>\n      <td>5.0722</td>\n    </tr>\n    <tr>\n      <th>4</th>\n      <td>2023-04-05</td>\n      <td>5.4899</td>\n      <td>6.2745</td>\n      <td>5.0347</td>\n    </tr>\n  </tbody>\n</table>\n</div>",
       "datasetInfos": [],
       "metadata": {},
       "removedWidgets": [],
       "textData": null,
       "type": "htmlSandbox"
      }
     },
     "output_type": "display_data"
    }
   ],
   "source": [
    "df_valores_reais = ps.read_csv(\"dbfs:/databricks-results/prata/valores_reais/\")"
   ]
  },
  {
   "cell_type": "code",
   "execution_count": null,
   "metadata": {
    "application/vnd.databricks.v1+cell": {
     "cellMetadata": {
      "byteLimit": 2048000,
      "rowLimit": 10000
     },
     "inputWidgets": {},
     "nuid": "5994b90a-e290-423b-a805-3cd7dd90b55b",
     "showTitle": false,
     "title": ""
    }
   },
   "outputs": [],
   "source": [
    "!mkdir imagens"
   ]
  },
  {
   "cell_type": "code",
   "execution_count": null,
   "metadata": {
    "application/vnd.databricks.v1+cell": {
     "cellMetadata": {
      "byteLimit": 2048000,
      "rowLimit": 10000
     },
     "inputWidgets": {},
     "nuid": "39208ef5-c4b8-4954-a7f9-45a8f5cc2dfd",
     "showTitle": false,
     "title": ""
    }
   },
   "outputs": [],
   "source": [
    "for moeda in df_valores_reais.columns[1:]:\n",
    "    fig = df_valores_reais.plot.line(x=\"data\", y=moeda)\n",
    "    fig.write_image(f\"./imagens/{moeda}.png\")"
   ]
  },
  {
   "cell_type": "code",
   "execution_count": null,
   "metadata": {
    "application/vnd.databricks.v1+cell": {
     "cellMetadata": {
      "byteLimit": 2048000,
      "rowLimit": 10000
     },
     "inputWidgets": {},
     "nuid": "a138f4dc-b297-4952-afdd-0748cdc6b212",
     "showTitle": false,
     "title": ""
    }
   },
   "outputs": [],
   "source": [
    "def enviando_imagens(moeda_cotacao):\n",
    "    enviando_imagens = client.files_upload_v2(\n",
    "    channel=\"#id_seu_canal_slack\",  \n",
    "    title=\"Enviando imagens de cotacoes\",\n",
    "    file=f\"./imagens/{moeda_cotacao}.png\"\n",
    ")"
   ]
  },
  {
   "cell_type": "code",
   "execution_count": null,
   "metadata": {
    "application/vnd.databricks.v1+cell": {
     "cellMetadata": {
      "byteLimit": 2048000,
      "rowLimit": 10000
     },
     "inputWidgets": {},
     "nuid": "df7643cc-6c71-46cd-903b-c8fdf650709b",
     "showTitle": false,
     "title": ""
    }
   },
   "outputs": [],
   "source": [
    "for moeda in df_valores_reais.columns[1:]:\n",
    "    enviando_imagens(moeda)"
   ]
  }
 ],
 "metadata": {
  "application/vnd.databricks.v1+notebook": {
   "dashboards": [],
   "language": "python",
   "notebookMetadata": {
    "pythonIndentUnit": 4
   },
   "notebookName": "3-automatizando-relatorio",
   "widgets": {}
  },
  "language_info": {
   "name": "python"
  }
 },
 "nbformat": 4,
 "nbformat_minor": 0
}
