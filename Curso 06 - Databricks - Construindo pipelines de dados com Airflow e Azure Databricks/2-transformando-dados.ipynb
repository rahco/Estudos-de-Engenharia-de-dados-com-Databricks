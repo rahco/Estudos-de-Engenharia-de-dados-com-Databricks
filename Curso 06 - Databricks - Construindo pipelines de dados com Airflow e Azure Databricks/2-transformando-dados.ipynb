{
 "cells": [
  {
   "cell_type": "code",
   "execution_count": null,
   "metadata": {
    "application/vnd.databricks.v1+cell": {
     "cellMetadata": {
      "byteLimit": 2048000,
      "rowLimit": 10000
     },
     "inputWidgets": {},
     "nuid": "ab062e6f-cb84-4777-8977-bf09e3e5d134",
     "showTitle": false,
     "title": ""
    }
   },
   "outputs": [],
   "source": [
    "from pyspark.sql.functions import to_date, first, col, round"
   ]
  },
  {
   "cell_type": "code",
   "execution_count": null,
   "metadata": {
    "application/vnd.databricks.v1+cell": {
     "cellMetadata": {
      "byteLimit": 2048000,
      "rowLimit": 10000
     },
     "inputWidgets": {},
     "nuid": "e38f1221-3d09-4420-84c3-4ddd9c43102a",
     "showTitle": false,
     "title": ""
    }
   },
   "outputs": [],
   "source": [
    "df_junto = spark.read.parquet(\"dbfs:/databricks-results/bronze/*/*/*\")"
   ]
  },
  {
   "cell_type": "code",
   "execution_count": null,
   "metadata": {
    "application/vnd.databricks.v1+cell": {
     "cellMetadata": {
      "byteLimit": 2048000,
      "rowLimit": 10000
     },
     "inputWidgets": {},
     "nuid": "4bbb349f-ed07-40dd-96c1-06d64f0b2240",
     "showTitle": false,
     "title": ""
    }
   },
   "outputs": [],
   "source": [
    "moedas = ['USD', 'EUR', 'GBP']\n",
    "\n",
    "df_moedas = df_junto.filter(df_junto.moeda.isin(moedas))"
   ]
  },
  {
   "cell_type": "code",
   "execution_count": null,
   "metadata": {
    "application/vnd.databricks.v1+cell": {
     "cellMetadata": {
      "byteLimit": 2048000,
      "rowLimit": 10000
     },
     "inputWidgets": {},
     "nuid": "2ad92a97-c5c0-4a20-9c37-d41ba5995e7d",
     "showTitle": false,
     "title": ""
    }
   },
   "outputs": [],
   "source": [
    "df_moedas = df_moedas.withColumn(\"data\", to_date(\"data\"))"
   ]
  },
  {
   "cell_type": "code",
   "execution_count": null,
   "metadata": {
    "application/vnd.databricks.v1+cell": {
     "cellMetadata": {
      "byteLimit": 2048000,
      "rowLimit": 10000
     },
     "inputWidgets": {},
     "nuid": "0c618dfb-0108-40f9-a068-3288a2b41870",
     "showTitle": false,
     "title": ""
    }
   },
   "outputs": [],
   "source": [
    "resultado_taxas_conversao = df_moedas.groupBy(\"data\")\\\n",
    "                                    .pivot(\"moeda\")\\\n",
    "                                    .agg(first(\"taxa\"))\\\n",
    "                                    .orderBy(\"data\", ascending=False)"
   ]
  },
  {
   "cell_type": "code",
   "execution_count": null,
   "metadata": {
    "application/vnd.databricks.v1+cell": {
     "cellMetadata": {
      "byteLimit": 2048000,
      "rowLimit": 10000
     },
     "inputWidgets": {},
     "nuid": "6fce9fa5-205c-4048-859f-755219e40456",
     "showTitle": false,
     "title": ""
    }
   },
   "outputs": [
    {
     "name": "stdout",
     "output_type": "stream",
     "text": [
      "+----------+--------+--------+--------+\n",
      "|      data|     EUR|     GBP|     USD|\n",
      "+----------+--------+--------+--------+\n",
      "|2023-04-01|0.181681|0.159983|0.197499|\n",
      "|2023-04-02|0.182756|0.160693| 0.19748|\n",
      "|2023-04-03|0.180972|0.158945|0.197449|\n",
      "|2023-04-04|0.179912|0.157752|0.197153|\n",
      "|2023-04-05|0.182154|0.159374|0.198622|\n",
      "+----------+--------+--------+--------+\n",
      "only showing top 5 rows\n",
      "\n"
     ]
    }
   ],
   "source": [
    "resultado_valores_reais = resultado_taxas_conversao.select(\"*\")"
   ]
  },
  {
   "cell_type": "code",
   "execution_count": null,
   "metadata": {
    "application/vnd.databricks.v1+cell": {
     "cellMetadata": {
      "byteLimit": 2048000,
      "rowLimit": 10000
     },
     "inputWidgets": {},
     "nuid": "a95e9182-9b79-402b-8104-2c50a7b258fc",
     "showTitle": false,
     "title": ""
    }
   },
   "outputs": [],
   "source": [
    "for moeda in moedas:\n",
    "    resultado_valores_reais = resultado_valores_reais\\\n",
    "                                .withColumn(\n",
    "                                    moeda, round(1/col(moeda), 4)  \n",
    "                                )"
   ]
  },
  {
   "cell_type": "code",
   "execution_count": null,
   "metadata": {
    "application/vnd.databricks.v1+cell": {
     "cellMetadata": {
      "byteLimit": 2048000,
      "rowLimit": 10000
     },
     "inputWidgets": {},
     "nuid": "78691c56-401c-48ad-a416-6d7b9e49fa24",
     "showTitle": false,
     "title": ""
    }
   },
   "outputs": [],
   "source": [
    "resultado_taxas_conversao = resultado_taxas_conversao.coalesce(1)\n",
    "resultado_valores_reais = resultado_valores_reais.coalesce(1)"
   ]
  },
  {
   "cell_type": "code",
   "execution_count": null,
   "metadata": {
    "application/vnd.databricks.v1+cell": {
     "cellMetadata": {
      "byteLimit": 2048000,
      "rowLimit": 10000
     },
     "inputWidgets": {},
     "nuid": "076e5cf2-6108-4170-940d-3e6c364e2271",
     "showTitle": false,
     "title": ""
    }
   },
   "outputs": [],
   "source": [
    "# Salvando arquivo de taxas\n",
    "\n",
    "resultado_taxas_conversao.write\\\n",
    "  .mode(\"overwrite\")\\\n",
    "  .format(\"csv\")\\\n",
    "  .option(\"header\", \"true\")\\\n",
    "  .save(\"dbfs:/databricks-results/prata/taxas_conversao\")\n",
    "\n",
    "\n",
    "resultado_valores_reais.write\\\n",
    "  .mode(\"overwrite\")\\\n",
    "  .format(\"csv\")\\\n",
    "  .option(\"header\", \"true\")\\\n",
    "  .save(\"dbfs:/databricks-results/prata/valores_reais\")"
   ]
  },
  {
   "cell_type": "code",
   "execution_count": null,
   "metadata": {
    "application/vnd.databricks.v1+cell": {
     "cellMetadata": {
      "byteLimit": 2048000,
      "rowLimit": 10000
     },
     "inputWidgets": {},
     "nuid": "9978a667-b9fa-4865-baa9-b09442eac4a7",
     "showTitle": false,
     "title": ""
    }
   },
   "outputs": [],
   "source": [
    "display(dbutils.fs.ls(\"dbfs:/databricks-results/bronze/2023/06/02\"))"
   ]
  }
 ],
 "metadata": {
  "application/vnd.databricks.v1+notebook": {
   "dashboards": [],
   "language": "python",
   "notebookMetadata": {
    "pythonIndentUnit": 4
   },
   "notebookName": "2-transformando-dados",
   "widgets": {}
  },
  "language_info": {
   "name": "python"
  }
 },
 "nbformat": 4,
 "nbformat_minor": 0
}
